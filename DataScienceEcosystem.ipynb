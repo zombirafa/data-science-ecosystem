{
  "metadata": {
    "kernelspec": {
      "name": "python",
      "display_name": "Python (Pyodide)",
      "language": "python"
    },
    "language_info": {
      "codemirror_mode": {
        "name": "python",
        "version": 3
      },
      "file_extension": ".py",
      "mimetype": "text/x-python",
      "name": "python",
      "nbconvert_exporter": "python",
      "pygments_lexer": "ipython3",
      "version": "3.8"
    }
  },
  "nbformat_minor": 5,
  "nbformat": 4,
  "cells": [
    {
      "id": "ac9198b3-79b7-49f9-9dab-9e7e3de1d1dd",
      "cell_type": "code",
      "source": "# Data Science Tools and Ecosystem",
      "metadata": {
        "trusted": true
      },
      "outputs": [],
      "execution_count": 1
    },
    {
      "id": "dd0dfad5-17e0-41eb-a824-74460608492e",
      "cell_type": "markdown",
      "source": "In this notebook, Data Science Tools and Ecosystem are summarized.",
      "metadata": {}
    },
    {
      "id": "711ee431-f6b0-4705-90ec-eb8b7583e89e",
      "cell_type": "markdown",
      "source": "**Objectives:**\n- List popular languages for Data Science.\n- List commonly used libraries in Data Science.\n- Create tables in Markdown.\n- Evaluate arithmetic expressions in Python.",
      "metadata": {}
    },
    {
      "id": "554cd552-fdef-4adc-b48d-00b12fc71f2c",
      "cell_type": "markdown",
      "source": "Some of the popular languages that Data Scientists use are:\n1. Python\n2. R\n3. SQL",
      "metadata": {}
    },
    {
      "id": "60160550-bf98-486f-9996-abf1b3421333",
      "cell_type": "markdown",
      "source": "Some of the commonly used libraries used by Data Scientists include:\n1. Pandas\n2. NumPy\n3. Scikit-learn",
      "metadata": {}
    },
    {
      "id": "64af53b6-d08e-403b-bfd5-c7a2be291498",
      "cell_type": "markdown",
      "source": "| Data Science Tools |\n|--------------------|\n| Jupyter Notebook   |\n| RStudio            |\n| VS Code            |",
      "metadata": {}
    },
    {
      "id": "58850c52-73e9-4d8d-b19b-673e712df4e8",
      "cell_type": "markdown",
      "source": "### Below are a few examples of evaluating arithmetic expressions in Python.",
      "metadata": {}
    },
    {
      "id": "874c155d-7f85-4253-a125-4b9b5b86b050",
      "cell_type": "code",
      "source": "# Esta expresión multiplica 3*4 y luego suma 5\n(3 * 4) + 5",
      "metadata": {
        "trusted": true
      },
      "outputs": [
        {
          "execution_count": 2,
          "output_type": "execute_result",
          "data": {
            "text/plain": "17"
          },
          "metadata": {}
        }
      ],
      "execution_count": 2
    },
    {
      "id": "afff9c2e-9d56-40ff-a2cb-4f89cc1174bf",
      "cell_type": "code",
      "source": "# Convierte 200 minutos a horas dividiendo entre 60\n200 / 60\n",
      "metadata": {
        "trusted": true
      },
      "outputs": [
        {
          "execution_count": 3,
          "output_type": "execute_result",
          "data": {
            "text/plain": "3.3333333333333335"
          },
          "metadata": {}
        }
      ],
      "execution_count": 3
    },
    {
      "id": "67522474-776f-4920-92e9-e19724c39088",
      "cell_type": "markdown",
      "source": "## Author\nRafael Andres Ortiz Esparza",
      "metadata": {}
    },
    {
      "id": "a28f6120-ff57-4792-ae7a-a86ab9ad95aa",
      "cell_type": "code",
      "source": "",
      "metadata": {
        "trusted": true
      },
      "outputs": [],
      "execution_count": null
    }
  ]
}